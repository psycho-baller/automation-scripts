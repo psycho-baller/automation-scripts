{
 "cells": [
  {
   "cell_type": "code",
   "execution_count": null,
   "metadata": {},
   "outputs": [],
   "source": [
    "# \n",
    "import os\n",
    "\n",
    "def delete_hello_world(filename):\n",
    "    with open(filename, 'r') as f:\n",
    "        lines = f.readlines()\n",
    "\n",
    "    with open(filename, 'w') as f:\n",
    "        for line in lines:\n",
    "            new_line = line.replace(\"#z/1\", \"\").replace(\"#z/2\", \"\").replace(\"#z/3\", \"\").replace(\"#z/4\", \"\")\n",
    "            f.write(new_line)\n",
    "\n",
    "\n",
    "def process_directory(path):\n",
    "    for root, dirs, files in os.walk(path):\n",
    "        for file in files:\n",
    "            if file.endswith('.md'):\n",
    "                file_path = os.path.join(root, file)\n",
    "                delete_hello_world(file_path)\n",
    "\n",
    "# Replace '/path/to/folder' with the path to the folder you want to process\n",
    "process_directory('/Users/rami-ibm/Library/CloudStorage/OneDrive-Personal/Obsidian/1 Zettelkasten/')"
   ]
  },
  {
   "cell_type": "code",
   "execution_count": 5,
   "metadata": {},
   "outputs": [],
   "source": [
    "import os\n",
    "\n",
    "def delete_hello_world(filename):\n",
    "    with open(filename, 'r') as f:\n",
    "        lines = f.readlines()\n",
    "\n",
    "    with open(filename, 'w') as f:\n",
    "        for line in lines:\n",
    "            if \"#PG/MindExpantion\" not in line:\n",
    "                f.write(line)\n",
    "\n",
    "\n",
    "def process_directory(path):\n",
    "    for root, dirs, files in os.walk(path):\n",
    "        for file in files:\n",
    "            if file.endswith('.md'):\n",
    "                file_path = os.path.join(root, file)\n",
    "                delete_hello_world(file_path)\n",
    "\n",
    "process_directory('/Users/rami-ibm/Library/CloudStorage/OneDrive-Personal/Obsidian/1 Zettelkasten/')"
   ]
  }
 ],
 "metadata": {
  "kernelspec": {
   "display_name": "Python 3",
   "language": "python",
   "name": "python3"
  },
  "language_info": {
   "codemirror_mode": {
    "name": "ipython",
    "version": 3
   },
   "file_extension": ".py",
   "mimetype": "text/x-python",
   "name": "python",
   "nbconvert_exporter": "python",
   "pygments_lexer": "ipython3",
   "version": "3.11.1"
  },
  "orig_nbformat": 4
 },
 "nbformat": 4,
 "nbformat_minor": 2
}
